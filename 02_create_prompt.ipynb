{
 "cells": [
  {
   "cell_type": "markdown",
   "metadata": {},
   "source": [
    "## Step 2: Create the System Prompt for the LLM\n",
    "\n",
    "In this notebook, we will create the prompt for the LLM, which will instruct the model to generate a referral letter / clinical note in the format given by the sample response. Feel free to edit the prompt as desired. \n",
    "\n",
    "Additionally, do also feel free to use different sample response. "
   ]
  },
  {
   "cell_type": "code",
   "execution_count": null,
   "metadata": {},
   "outputs": [],
   "source": [
    "# TODO: Consider adding the phrase 'The response should be formatted within <response> </response> XML tags.'\n",
    "\n",
    "system_prompt = \"\"\"\n",
    "You are a highly knowledgeable assistant specialized in creating clinical documents. Your task is to generate a clinical note based on provided clinical data. \n",
    "\n",
    "You will use the clinical data retrieved from ChromaDB to generate a clinical note similarly formatted and detailed as the sample provided. \n",
    "\n",
    "\"\"\""
   ]
  },
  {
   "cell_type": "code",
   "execution_count": null,
   "metadata": {},
   "outputs": [],
   "source": [
    "import json\n",
    "import os\n",
    "\n",
    "# Specify the path of the sample referral letter / clinical note\n",
    "sample_file_name = 'clinical-notes-01.txt'\n",
    "sample_file_path = os.path.join('sample_responses', sample_file_name)\n",
    "\n",
    "# Load the file (in this case the sample clinical note file is in JSON format)\n",
    "with open(sample_file_path, 'r') as f:\n",
    "    data = json.load(f)\n",
    "\n",
    "# Process the file (in this case we only want the information in the 'content' attribute)\n",
    "sample_response = json.dumps(data.get('content'),  indent=4)"
   ]
  },
  {
   "cell_type": "markdown",
   "metadata": {},
   "source": [
    "After appending the sample response to the prompt, save it to a file for persistence. "
   ]
  },
  {
   "cell_type": "code",
   "execution_count": null,
   "metadata": {},
   "outputs": [],
   "source": [
    "# Display the created prompt\n",
    "system_prompt += sample_response\n",
    "print(system_prompt)\n",
    "\n",
    "# Specify the file path (change as needed)\n",
    "write_file_name = os.path.splitext(sample_file_name)[0] + '-prompt.txt'\n",
    "write_file_path = os.path.join('prompts', write_file_name)\n",
    "\n",
    "# Write to file\n",
    "with open(write_file_path, 'w') as file:\n",
    "    # Write the string to the file\n",
    "    file.write(system_prompt)"
   ]
  }
 ],
 "metadata": {
  "kernelspec": {
   "display_name": ".venv",
   "language": "python",
   "name": "python3"
  },
  "language_info": {
   "codemirror_mode": {
    "name": "ipython",
    "version": 3
   },
   "file_extension": ".py",
   "mimetype": "text/x-python",
   "name": "python",
   "nbconvert_exporter": "python",
   "pygments_lexer": "ipython3",
   "version": "3.12.1"
  }
 },
 "nbformat": 4,
 "nbformat_minor": 2
}
