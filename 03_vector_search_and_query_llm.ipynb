{
 "cells": [
  {
   "cell_type": "markdown",
   "metadata": {},
   "source": [
    "## Step 3: Conduct a vector similarity search with the Prompt and Send the Final Prompt to the LLM\n",
    "\n",
    "In this notebook, we will first conduct a similarity search in the ChromaDB for texts which exhibit the least distance from the prompt created in step 02. 10 pieces of text will selected, but this number can be changed as desired. \n",
    "\n",
    "Subsequently, the final prompt (which includes both the prompt and the found results) will be sent to an LLM on AWS Bedrock. \n",
    "\n",
    "> Credit for parts of this notebook: https://github.com/Farzad-R/Advanced-QA-and-RAG-Series/commits?author=Farzad-R"
   ]
  },
  {
   "cell_type": "code",
   "execution_count": 7,
   "metadata": {},
   "outputs": [
    {
     "data": {
      "text/plain": [
       "165"
      ]
     },
     "execution_count": 7,
     "metadata": {},
     "output_type": "execute_result"
    }
   ],
   "source": [
    "import chromadb\n",
    "from pyprojroot import here\n",
    "\n",
    "# Load ChromaDB\n",
    "chroma_client = chromadb.PersistentClient(path=str(here(\"data/chroma\")))\n",
    "vectordb = chroma_client.get_collection(name=\"renalworks\")\n",
    "vectordb.count()"
   ]
  },
  {
   "cell_type": "code",
   "execution_count": 8,
   "metadata": {},
   "outputs": [
    {
     "name": "stdout",
     "output_type": "stream",
     "text": [
      "[-0.007839507, -0.01812603, 0.035889536, -0.00892707, 0.0059815897, -0.001076233, -0.01966674, -0.04259617, 0.026101481, 0.0255577, -0.023382578, 0.000101250866, 0.03715836, -0.04894028, -0.054740608, 0.03244559, -0.028276606, -0.058365814, -0.0150446035, 0.080842085, 0.026645262, 0.04513381, 0.04567759, -0.017310357, -0.10005568, -0.014047672, -0.045858853, -0.01839792, 0.038608443, -0.0109209325, 0.04259617, 0.054378085, -0.004101014, -0.02501392, 0.013413262, 0.045496333, -0.009788056, -0.010377152, 0.021841865, -0.061628498, 0.028820386, -0.027551563, 0.00070238364, -0.034620713, -0.046402633, 0.0027642194, 0.00046731168, 0.041871127, -0.0126882205, 0.023110686, 0.05619069, 0.03933348, -0.04459003, 0.0059815897, 0.07069151, 0.048577756, -0.027551563, -0.05002784, -0.022204386, -0.049302798, 0.017763508, -0.01250696, -0.0757668, -0.030089207, 0.014047672, -6.832663e-05, 0.042958688, -0.07177907, -0.050752882, -0.03298937, 0.05039036, -0.023563838, 0.03715836, 0.029364167, -0.0009402877, -0.04368373, -0.006208165, 0.01857918, 0.03153929, -0.013594521, -0.023926359, 0.023020057, -0.04422751, 0.0075223017, -0.00017913614, -0.04894028, -0.023110686, -0.000560774, -0.0019485481, -0.042777427, 0.02573896, 0.008836439, -0.009153645, 0.0255577, -0.054740608, -0.001710644, 0.054740608, -0.026826523, -0.0028775071, 0.0072504114, -0.03842718, 0.040421043, 0.029726688, 0.006389425, -0.017491618, -4.1420808e-05, 0.06742883, 0.004644795, -0.023110686, 0.04567759, -0.016947838, 0.071054034, -0.019848002, -0.010422466, 0.07286663, -0.013594521, -0.002095822, 0.060540937, 0.072141595, 0.00059476035, -0.03226433, -0.07467924, -0.003715836, -0.021116823, -0.014047672, 0.053290524, 0.00983337, -0.03679584, -0.017763508, 0.0067519457, -0.015769646, 0.04350247, 0.009697425, -0.015135234, 0.059453376, -0.027914084, 0.021116823, 0.0032400277, 0.053290524, 0.03208307, 0.033170633, 0.039514743, -0.01250696, -0.07141656, 0.06489118, 0.033351894, 0.038064662, 0.021751234, -0.013957042, -0.04313995, -0.0058456445, -0.034076933, -0.0039197537, -0.04404625, 0.041689865, -0.012053809, 0.04513381, 0.02447014, 0.016675947, 0.013685152, 0.0005352843, 0.0016313426, -0.03208307, -0.04894028, 0.023926359, -0.020391783, -0.0012291713, 0.06271606, 0.0043729045, -0.0087911235, -0.00625348, -0.014772713, -0.05727825, -0.017310357, 0.028095344, 0.02483266, 0.059453376, -0.029001646, -0.008881754, 0.022838796, 0.022204386, 0.0073863566, -0.029364167, -0.022748167, -0.024651399, 0.015769646, 0.0189417, 0.005528439, 0.0037838086, -0.021841865, -0.0072050965, -0.018760439, 0.00037101714, -0.05546565, -0.07467924, 0.033351894, -0.040058523, -0.053290524, -0.026101481, -0.03715836, 0.001755959, -0.036433317, 0.057640772, -0.06887891, -0.007023836, 0.027914084, -0.034076933, 0.032808114, -0.00947085, -0.03226433, -0.010150576, -0.015225864, -0.0757668, -0.019757371, 0.027732825, -0.035345756, -0.055103127, -0.0099693155, 0.012325699, -0.0024130277, 0.00041350003, 0.058728334, 0.0038970963, -0.07359168, 0.041508608, -0.0067519457, -0.046402633, -0.002447014, -0.00947085, 0.02519518, 0.029726688, -0.01966674, -0.03625206, 0.04477129, -0.047852717, -0.08446729, 0.0073863566, 0.048215237, 0.003421288, 0.006887891, 0.03570828, -0.013685152, -0.006887891, 0.0061628497, 0.014591454, -0.022566905, 0.014772713, 0.0022091097, -0.0038517811, 0.010784987, -0.041327346, 0.02519518, 0.01830729, 0.020482413, -0.021207454, 0.0058456445, 0.01277885, -0.005800329, -0.007839507, 0.009425535, 0.053653046, -0.013503891, 0.00983337, 0.029726688, -0.015679015, -0.020391783, 0.016585317, -0.0050073154, -0.01939485, -0.01866981, 0.022929426, -0.027007783, 0.04567759, -0.0511154, -0.009425535, 0.03298937, 0.052202962, 0.061628498, -0.05039036, 0.039696004, -0.036070798, 0.00919896, -0.007295727, 0.020844933, 0.0018692467, -0.026101481, -0.046765156, -0.0077941925, 0.004463535, 0.055103127, -0.024107618, 0.014682083, -0.011781919, -0.09135518, -0.01830729, 0.029726688, 0.026645262, -0.03117677, 0.01259759, 0.008609864, 0.010105261, -0.03172055, 0.007930137, 0.0066160006, -0.03933348, -0.014682083, -0.03715836, -0.014138303, 0.02519518, -0.03298937, -0.061628498, 0.010739672, -0.020844933, -0.0014387536, 0.02447014, -0.0060722195, -0.0060269046, -0.0031040825, 0.0255577, -0.02447014, -0.00079867814, 0.0027189043, 0.04459003, -0.04622137, 0.011238138, 0.013775782, 0.028639125, 0.011102193, 0.014500823, 0.0109209325, 0.06452866, -0.029182907, 0.042777427, -0.0066160006, 0.040602304, 0.0028095345, -0.0014330891, -0.03661458, 0.028820386, -0.016404057, 0.009652111, -0.058728334, -0.04894028, -0.059090853, -0.008202028, -0.0055510965, 0.047852717, 0.00027897093, 0.0055510965, -0.01866981, -0.00066556514, -0.022838796, 0.0010818973, -0.034258194, -0.028820386, 0.057640772, -0.014500823, 0.019576112, -0.0189417, 0.012325699, -0.026101481, 0.020119892, -0.042777427, 0.017582247, -0.011283453, -0.0025263152, 0.024288878, 0.0028661783, -0.07649184, 0.06271606, -0.03135803, 0.03244559, -0.01939485, -0.014591454, 0.0006599007, 0.0056870417, -0.040421043, 0.017129097, -0.016857207, 0.029545426, 0.0011668631, 0.0018805754, 0.016041536, -0.024288878, -0.033351894, 0.034076933, -0.066341266, 0.025920222, 0.02483266, 0.005324521, -0.07141656, 0.022748167, -0.016222795, 0.007476987, 0.019757371, 0.010241207, -0.04259617, 0.029545426, -0.037520878, -0.009017699, 0.023926359, 0.020663673, -0.033714414, 0.0189417, 0.035527017, -0.021841865, 0.0025149866, 0.0012291713, 0.002243096, -0.014047672, 0.020029262, -0.016132165, 0.035345756, -0.015225864, -0.0003186216, 0.029364167, -0.0012291713, -0.020935563, 0.045496333, -0.028820386, 0.00040217125, 0.03661458, 0.01830729, 0.047852717, 0.011872549, -0.019304221, -0.0009969316, 0.0026962468, 0.008609864, -0.034258194, -0.00625348, 0.036433317, -0.019032331, 0.033714414, -0.0059815897, 0.08555485, -0.0041236714, -0.01286948, -0.014047672, -0.011872549, 0.007159781, -0.0050979457, -0.007930137, -0.011374083, -0.013322631, 0.0057323566, -0.03153929, 0.010966248, 0.059453376, 0.071054034, -0.027189042, 0.07431672, -0.047490194, -0.0061628497, -0.02519518, -0.0010818973, 0.01912296, 0.033170633, -0.0046901098, -0.0065253703, 0.03298937, 0.021932496, -0.0036252057, -9.4170384e-05, 0.006933206, 0.04386499, 0.029726688, -0.004010384, -0.007884823, -0.029545426, 0.046040114, 0.028639125, -0.017310357, -0.034983236, 0.022023125, 0.01286948, 0.00643474, -0.034983236, -0.027914084, -0.020663673, -0.033533152, -0.019757371, 0.016585317, 0.0025829591, 0.03733962, -0.059090853, -0.029726688, -0.0050979457, -0.027914084, 0.03842718, 0.061628498, 0.016675947, 0.0021184797, -0.0036478634, 0.04350247, -0.003511918, -0.032808114, -0.020210521, 0.011872549, -0.0009176302, 0.014772713, -2.5843752e-05, -0.013322631, 0.047127675, 0.0093802195, -0.018216658, 0.008881754, 0.03842718, -0.05002784, -0.0020844934, -0.05147792, -0.013775782, 0.021026194, 0.033351894, 0.028820386, 0.013866412, 0.035164494, -0.03190181, 0.00040217125, -0.0006683973, -0.0027642194, 0.0014444179, 0.015225864, -0.0189417, -0.06235354, 0.021026194, 0.03117677, -0.058728334, 0.0037384934, -0.006298795, 0.009924001, 0.024288878, 0.018035399, 0.03244559, 0.055103127, -0.011600658, -0.035889536, 0.006842576, -0.014138303, -0.023745097, 0.041327346, -0.00956148, 0.022113755, -0.012960111, -0.026826523, -0.046765156, -0.0013198014, 0.014319562, 0.018035399, -0.038608443, -0.027007783, -0.021932496, 0.026464002, 0.028095344, 0.0048033977, 0.07141656, -0.033351894, 0.03679584, 0.01939485, 0.06851639, -0.010377152, -0.013232001, -0.04386499, -0.035345756, 0.03244559, 0.003511918, 0.017582247, -0.0378834, 0.03298937, -0.017944768, 0.047127675, -0.004033041, -0.006842576, -0.040421043, -0.010513097, 0.01812603, 0.019938631, 0.05002784, -0.07177907, -0.008247343, -0.014682083, -0.008836439, -0.0154071245, 0.013775782, 0.042233646, 0.0048033977, -0.042233646, 0.052202962, -0.0077035623, -0.01839792, 0.0051206034, -0.013322631, -0.011781919, -0.0154071245, 0.01286948, -0.0029681372, -0.004010384, -0.028820386, 0.033533152, 0.0036252057, 0.023020057, 0.033533152, -0.010241207, 0.014500823, 0.04477129, -0.051840443, 0.029726688, 0.048215237, 0.023926359, 0.0058909594, -0.010105261, 0.019576112, -0.068153866, 0.029182907, 0.0023677126, 0.046765156, 0.0027642194, 0.04259617, -0.012325699, 0.0022091097, 0.014319562, -0.013957042, 0.04422751, 0.0072504114, 0.04567759, 0.010694357, -0.014772713, 0.017038466, 0.01939485, 0.04313995, -0.007023836, -0.027732825, 0.006298795, -0.060540937, -0.010966248, -0.042777427, 0.013050741, -0.0154071245, 0.05039036, 0.008337974, -0.009924001, 0.023110686, -0.022295015, 0.03226433, -0.020029262, 0.0036705208, -0.06416614, -0.061628498, 0.004463535, -0.010467782, 0.033351894, -0.013594521, 0.025920222, 0.017491618, -0.05147792, -0.018216658, 0.060178414, 0.042958688, -0.0115100285, 0.013685152, 0.017944768, 0.023382578, 0.035527017, 0.0018465891, -0.009017699, 0.016585317, 0.02447014, 0.041689865, -0.022929426, -0.057640772, -0.005233891, 0.020935563, -0.02483266, -0.005709699, -0.013685152, -0.029182907, 0.03298937, -0.0255577, 0.005324521, 0.030451728, -0.020844933, 0.017310357, 0.038064662, -0.016494686, -0.010377152, -0.047127675, 0.060540937, -0.013232001, -0.022385646, 0.0030134523, -0.014047672, -0.05582817, 0.0038744386, -0.042958688, 0.01223507, -0.012325699, 0.059815895, 0.03661458, -0.014138303, -0.051840443, 0.024651399, -0.027189042, 0.010377152, -0.06489118, 0.030814249, -0.04966532, -0.046765156, -0.010195891, -0.02519518, 0.01241633, -0.0021411371, 0.039696004, -0.023382578, 0.004168987, -0.046765156, -0.03172055, 0.007612932, -0.026101481, 0.011963179, 0.00025772947, 0.07322916, -0.0026056166, -0.011963179, -0.042958688, -0.034983236, -0.024107618, 0.02519518, -0.008202028, 0.002741562, 0.01250696, 0.033895675, -0.017219728, -0.030270468, 0.029001646, 0.013232001, 0.0067972606, -0.088817544, -0.012960111, 0.0775794, 0.0115100285, 0.024651399, -0.010422466, -0.0055737537, -0.013775782, 0.017310357, 0.017129097, 0.041689865, -0.0003851781, -0.027914084, 0.0154071245, -0.008519233, -0.036070798, -0.04404625, 0.040964827, 0.006933206, -0.008473919, 0.010784987, -0.033895675, 0.023563838, -0.023382578, 0.0378834, 0.014410193, -0.011555343, -0.020935563, -0.022476276, 0.033714414, 0.0387897, -0.008337974, -0.0032626851, 0.022113755, -0.013866412, -0.014953974, 0.0018352604, -0.0255577, 0.021569975, 0.024651399, 0.013685152, -0.01785414, -0.04567759, 0.09280527, -0.007612932, 0.018216658, -0.028276606, -0.029907947, 0.028639125, -0.005233891, -0.026464002, -0.004463535, 0.034620713, 0.0055964114, 0.013232001, 0.0052792057, -0.03172055, -0.045496333, 0.026101481, -0.004168987, -0.06851639, 0.006706631, -0.030089207, -0.0006457398, -0.016585317, -0.006978521, 0.033533152, -0.015679015, -0.0052792057, 0.01286948, 0.072141595, -0.014047672, -0.017672878, 0.034620713, -0.05002784, -0.023926359, -0.04350247, 0.061628498, -0.04368373, -0.0087911235, -0.029182907, 0.037520878, -0.01866981, -0.03842718, 0.039514743, 0.08555485, -0.00045598292, 0.0387897, -0.00983337, -0.024651399, -0.007159781, 0.03117677, 0.015225864, -0.013685152, 0.003466603, -0.005029973, 0.021207454, 0.006298795, -0.07322916, 0.029001646, 0.03679584, 0.0073410417, 0.053290524, 0.08337973, -0.037520878, 0.095705435, -0.04404625, 0.011872549, 0.040602304, -0.018035399, 0.02483266, -0.0038744386, -0.042233646, 0.012960111, 0.020301152, -0.067066304, -0.03824592, 0.007476987, -0.01241633, -0.02483266, 0.03135803, -0.047490194, 0.03933348, 0.008564549, 0.038064662, 0.010603727, 0.040058523, 0.023563838, -0.026101481, 0.014682083, 0.004735425, -0.023201317, -0.02501392, 0.016041536, -0.010875617, -0.003466603, 0.03770214, 0.04259617, -0.0035798906, 0.008292658, 0.047490194, 0.010377152, -0.038608443, 0.026464002, 0.016857207, 0.018760439, 0.0255577, 0.006933206, -0.034076933, -0.015225864, -0.05727825, -0.006842576, -0.013232001, 0.014863344, 0.0003157894, 0.0026509317, 0.026464002, 0.03770214, -0.05002784, 0.009334905, -0.015497754, -0.01241633, -0.0039877263, -0.047127675, -0.0029907948, 0.05147792, 0.0378834, 0.00983337, -0.024651399, 0.04966532, 0.033351894, -0.014138303, 0.026464002, 0.021932496, -0.068153866, 0.02483266, -0.0004588151, 0.0021184797, 0.0010139247, -0.015769646, -0.03842718, 0.048215237, 0.00919896, -0.017944768, 0.020754304, -0.03153929, 0.016404057, -0.01866981, 0.015769646, 0.00011328768, -0.009924001, -0.0012744864, 0.034258194, 0.026826523, -0.0036931783, -0.04259617, -0.02573896, -0.0063441102, 0.0026962468, 0.001608685, 0.014682083, 0.021026194, -0.04313995, 0.019032331, -0.040421043, -0.026101481, -0.03117677, 0.07322916, 0.045858853, -0.01812603, -0.008972384, -0.042233646, 0.027007783, 0.047127675, -0.038064662, -0.0103318365, -0.01939485, -0.014591454, -0.032808114, 0.03153929, -0.007884823, -0.017763508, 0.032808114, -0.0072050965, 0.04567759, 0.011691289, 0.044408772, -0.03661458, -0.005709699, -0.039877262, -0.035345756, 0.014772713, -0.0075223017, -0.035527017, 0.03770214, 0.020663673, -0.004010384, 0.010059946, 0.00321737, 0.033351894, -0.01912296, 0.015679015, -0.00478074, -0.039877262, -0.044952553, -0.035345756, 0.0378834, 0.01286948, 0.0018465891, 0.020029262, -0.016766576, -4.9917384e-05, 0.010603727, -0.01277885, 0.017219728, -0.010105261, -0.026101481, 0.011691289, -0.05655321, -0.00040500346, 0.03172055, 0.0511154, 0.022566905, 0.014682083, -0.01785414, -0.028276606, 0.03208307, 0.0061628497, -0.030995509, 0.011600658, -0.07032899, -0.01259759, 0.011056878, 0.023926359, 0.02483266, -0.0017446303, -0.042233646, -0.007930137, 0.016494686, 0.017219728, -0.00029171578, -0.01966674, -0.03244559, 0.009788056, 0.027551563, 0.046765156, 0.05147792, -0.0033759729]\n"
     ]
    }
   ],
   "source": [
    "import os\n",
    "from src.utils.bedrock_caller import BedrockCaller\n",
    "\n",
    "bedrock_caller = BedrockCaller()\n",
    "\n",
    "# Specify the path of the prompt\n",
    "prompt_file_name = 'clinical-notes-01-prompt-specific-02.txt'\n",
    "prompt_file_path = os.path.join('prompts', prompt_file_name)\n",
    "\n",
    "# Load prompt\n",
    "with open(prompt_file_path, 'r') as f:\n",
    "    prompt = f.read()\n",
    "\n",
    "# Obtain prompt embedding\n",
    "prompt_embedding = bedrock_caller.get_embedding(prompt)\n",
    "print(prompt_embedding)"
   ]
  },
  {
   "cell_type": "code",
   "execution_count": 9,
   "metadata": {},
   "outputs": [
    {
     "name": "stdout",
     "output_type": "stream",
     "text": [
      "[[\"id: 5546.0,\\nnote: - Pt alert\\n- Stable\\n- No c/o\\n- On Linear UF profiling start 1.06L/h - stop 1.06L/h.\\n- Reduce dialysate temperature at 36.5'C.,\\ntype: HD,\\ndetails: Pre-dialysis,\\nfhir_id: 387111.0,\\nid_patient: 1951.0,\\ncreated_at: 10:13.8,\\nmodified_at: nan,\\ncreated_by: 66.0,\\nmodified_by: nan,\\nid_tenant: 100.0,\\nid_branch: 10000.0,\\nid_dialysis: 4529.0,\\nmanually_created: False,\\nhd_reading_id: nan,\\nlab_order_id: nan,\\n\", 'id: 11620.0,\\nnote: Patient afebrile. No sign and symptoms of Covid 19 seen\\nOn UF Profiling linear:start:1.07 L/h-1.07 L/h\\nReduced dialysate temperature to 36.5 0C\\nHD 3 hour today due to water disruption start tomorrow,\\ntype: HD,\\ndetails: Pre-dialysis,\\nfhir_id: 677517.0,\\nid_patient: 1951.0,\\ncreated_at: 01:13.7,\\nmodified_at: nan,\\ncreated_by: 231.0,\\nmodified_by: nan,\\nid_tenant: 100.0,\\nid_branch: 10000.0,\\nid_dialysis: 8753.0,\\nmanually_created: False,\\nhd_reading_id: nan,\\nlab_order_id: nan,\\n', 'id: 10499.0,\\nnote: Patient afebrile. No sign and symptoms of Covid 19 seen\\nOn UF Profiling linear:start:0.75 l/h-0.75 L/h\\nReduced dialysate temperature to 36.5 0C,\\ntype: HD,\\ndetails: Pre-dialysis,\\nfhir_id: 642867.0,\\nid_patient: 1951.0,\\ncreated_at: 06:24.9,\\nmodified_at: nan,\\ncreated_by: 231.0,\\nmodified_by: nan,\\nid_tenant: 100.0,\\nid_branch: 10000.0,\\nid_dialysis: 8122.0,\\nmanually_created: False,\\nhd_reading_id: nan,\\nlab_order_id: nan,\\n', 'id: 8685.0,\\nnote: Patient afebrile. No sign and symptoms of Covid 19 seen\\nOn UF Profiling linear:start:1.00 L/h-1.00 L/h\\nReduced dialysate temperature to 36.5 0C,\\ntype: HD,\\ndetails: Pre-dialysis,\\nfhir_id: 532313.0,\\nid_patient: 1951.0,\\ncreated_at: 10:07.7,\\nmodified_at: nan,\\ncreated_by: 231.0,\\nmodified_by: nan,\\nid_tenant: 100.0,\\nid_branch: 10000.0,\\nid_dialysis: 6672.0,\\nmanually_created: False,\\nhd_reading_id: nan,\\nlab_order_id: nan,\\n', 'id: 2725.0,\\nnote: General condition patient stable and alert. A febrile. No cough,no flu,no SOB seen. No symptom of Covid 19 seen. On UF Profilling linear,\\ntype: HD,\\ndetails: Pre-dialysis,\\nfhir_id: 121463.0,\\nid_patient: 1951.0,\\ncreated_at: 54:07.0,\\nmodified_at: 54:07.0,\\ncreated_by: 234.0,\\nmodified_by: nan,\\nid_tenant: 100.0,\\nid_branch: 10000.0,\\nid_dialysis: 2225.0,\\nmanually_created: False,\\nhd_reading_id: nan,\\nlab_order_id: nan,\\n', \"id: 9834.0,\\nnote: - Pt stable\\n- No c/o\\n- No fever\\n- On UF Profiling Linear start 0.88L/h - stop 0.88L/h\\n- Dialysate temperature 36.5'C,\\ntype: HD,\\ndetails: Pre-dialysis,\\nfhir_id: 608441.0,\\nid_patient: 1951.0,\\ncreated_at: 02:39.7,\\nmodified_at: nan,\\ncreated_by: 66.0,\\nmodified_by: nan,\\nid_tenant: 100.0,\\nid_branch: 10000.0,\\nid_dialysis: 7656.0,\\nmanually_created: False,\\nhd_reading_id: nan,\\nlab_order_id: nan,\\n\", 'id: 8924.0,\\nnote: Patient afebrile. No sign and symptoms of Covid 19 seen\\nOn UF Profiling linear:start:1.05 L/h-1.05 L/h\\nReduced dialysate temperature to 36.5 0C,\\ntype: HD,\\ndetails: Pre-dialysis,\\nfhir_id: 545529.0,\\nid_patient: 1951.0,\\ncreated_at: 07:55.6,\\nmodified_at: nan,\\ncreated_by: 231.0,\\nmodified_by: nan,\\nid_tenant: 100.0,\\nid_branch: 10000.0,\\nid_dialysis: 6866.0,\\nmanually_created: False,\\nhd_reading_id: nan,\\nlab_order_id: nan,\\n', 'id: 7631.0,\\nnote: Patient afebrile. No sign and symptoms of Covid 19 seen\\nOn UF Profiling  linear:start:1.05 L/h-1.05 L/h\\nReduced dialysate temperature to 36.0C,\\ntype: HD,\\ndetails: Pre-dialysis,\\nfhir_id: 458061.0,\\nid_patient: 1951.0,\\ncreated_at: 39:35.7,\\nmodified_at: nan,\\ncreated_by: 231.0,\\nmodified_by: nan,\\nid_tenant: 100.0,\\nid_branch: 10000.0,\\nid_dialysis: 5881.0,\\nmanually_created: False,\\nhd_reading_id: nan,\\nlab_order_id: nan,\\n', 'id: 9114.0,\\nnote: Patient afebrile. No sign and symptoms of Covid 19 seen\\nOn UF Profiling linear:start:1.05 L/h-1.05 L/h\\nReduced dialysate temperature to 36.5 0C,\\ntype: HD,\\ndetails: Pre-dialysis,\\nfhir_id: 558744.0,\\nid_patient: 1951.0,\\ncreated_at: 19:52.7,\\nmodified_at: nan,\\ncreated_by: 231.0,\\nmodified_by: nan,\\nid_tenant: 100.0,\\nid_branch: 10000.0,\\nid_dialysis: 7041.0,\\nmanually_created: False,\\nhd_reading_id: nan,\\nlab_order_id: nan,\\n', 'id: 10236.0,\\nnote: Patient afebrile. No sign and symptoms of Covid 19 seen\\nOn UF Profiling linear:start:1.00 L/h-1.00 L/h\\nReduced dialysate temperature to 36.5 0C,\\ntype: HD,\\ndetails: Pre-dialysis,\\nfhir_id: 632960.0,\\nid_patient: 1951.0,\\ncreated_at: 07:40.4,\\nmodified_at: nan,\\ncreated_by: 231.0,\\nmodified_by: nan,\\nid_tenant: 100.0,\\nid_branch: 10000.0,\\nid_dialysis: 7959.0,\\nmanually_created: False,\\nhd_reading_id: nan,\\nlab_order_id: nan,\\n', 'id: 11401.0,\\nnote: Patient afebrile. No sign and symptoms of Covid 19 seen\\nOn UF Profiling linear:start:0.88 L/h-0.88 L/h\\nReduced dialysate temperature to 36.0C,\\ntype: HD,\\ndetails: Pre-dialysis,\\nfhir_id: 671777.0,\\nid_patient: 1951.0,\\ncreated_at: 22:09.8,\\nmodified_at: nan,\\ncreated_by: 231.0,\\nmodified_by: nan,\\nid_tenant: 100.0,\\nid_branch: 10000.0,\\nid_dialysis: 8591.0,\\nmanually_created: False,\\nhd_reading_id: nan,\\nlab_order_id: nan,\\n', 'id: 7508.0,\\nnote: pt stable and afebrile\\nno sign and symptom of infection seen\\nno sign and symptom of edema seen \\npt on profiling Linear, start at 1.05Lhr,\\ntype: HD,\\ndetails: Pre-dialysis,\\nfhir_id: 449831.0,\\nid_patient: 1951.0,\\ncreated_at: 50:18.4,\\nmodified_at: nan,\\ncreated_by: 172.0,\\nmodified_by: nan,\\nid_tenant: 100.0,\\nid_branch: 10000.0,\\nid_dialysis: 5783.0,\\nmanually_created: False,\\nhd_reading_id: nan,\\nlab_order_id: nan,\\n', 'id: 9643.0,\\nnote: pt stable and afebrile\\nno sign and symptom of infection seen\\nno sign and symptom of edema seen\\npt on profiling Linear, start at 0.90L/hr,\\ntype: HD,\\ndetails: Pre-dialysis,\\nfhir_id: 591751.0,\\nid_patient: 1951.0,\\ncreated_at: 50:39.3,\\nmodified_at: nan,\\ncreated_by: 172.0,\\nmodified_by: nan,\\nid_tenant: 100.0,\\nid_branch: 10000.0,\\nid_dialysis: 7432.0,\\nmanually_created: False,\\nhd_reading_id: nan,\\nlab_order_id: nan,\\n', 'id: 2234.0,\\nnote: -pt stable and afebrile\\n-no sign and symptom of infection seen\\n-no sign and symptom of edema seen\\n-pt on profilling Linear, start at 1.06L/hr,\\ntype: HD,\\ndetails: Pre-dialysis,\\nfhir_id: 108153.0,\\nid_patient: 1951.0,\\ncreated_at: 12:08.3,\\nmodified_at: 12:11.7,\\ncreated_by: 172.0,\\nmodified_by: 172.0,\\nid_tenant: 100.0,\\nid_branch: 10000.0,\\nid_dialysis: 1806.0,\\nmanually_created: False,\\nhd_reading_id: nan,\\nlab_order_id: nan,\\n', 'id: 7642.0,\\nnote: Completed 4 hours of HD\\nIV Erysaa 4k-centre stock given by SN Noraini\\nTolerated well\\nWent home vitally stable\\npatient left centre at 1.30 am,\\ntype: HD,\\ndetails: Post-dialysis,\\nfhir_id: 458121.0,\\nid_patient: 1951.0,\\ncreated_at: 51:44.6,\\nmodified_at: nan,\\ncreated_by: 231.0,\\nmodified_by: nan,\\nid_tenant: 100.0,\\nid_branch: 10000.0,\\nid_dialysis: 5881.0,\\nmanually_created: False,\\nhd_reading_id: nan,\\nlab_order_id: nan,\\n', 'id: 2267.0,\\nnote: omit,\\ntype: MEDICATION,\\ndetails: Ranofer(Iron Sucrose) 100mg/5mls Inj,\\nfhir_id: 108215.0,\\nid_patient: 1951.0,\\ncreated_at: 21:03.5,\\nmodified_at: 21:04.2,\\ncreated_by: 172.0,\\nmodified_by: nan,\\nid_tenant: 100.0,\\nid_branch: 10000.0,\\nid_dialysis: nan,\\nmanually_created: False,\\nhd_reading_id: nan,\\nlab_order_id: nan,\\n', 'id: 8124.0,\\nnote: pt stable and afebrile\\nno sign and symptom of infection seen\\nno sign and symptom of edema seen\\npt on profiling Linear, start at 1.05L/hr,\\ntype: HD,\\ndetails: Pre-dialysis,\\nfhir_id: 496051.0,\\nid_patient: 1951.0,\\ncreated_at: 42:04.6,\\nmodified_at: nan,\\ncreated_by: 172.0,\\nmodified_by: nan,\\nid_tenant: 100.0,\\nid_branch: 10000.0,\\nid_dialysis: 6310.0,\\nmanually_created: False,\\nhd_reading_id: nan,\\nlab_order_id: nan,\\n', 'id: 5930.0,\\nnote: pt stable and afebrile\\nno sign and symptom of infection seen\\nno sign and symptom of edema seen\\npt on profilling Linear , start at 1.05L/hr,\\ntype: HD,\\ndetails: Pre-dialysis,\\nfhir_id: 395558.0,\\nid_patient: 1951.0,\\ncreated_at: 43:51.6,\\nmodified_at: nan,\\ncreated_by: 172.0,\\nmodified_by: nan,\\nid_tenant: 100.0,\\nid_branch: 10000.0,\\nid_dialysis: 4791.0,\\nmanually_created: False,\\nhd_reading_id: nan,\\nlab_order_id: nan,\\n', 'id: 9510.0,\\nnote: pt stable and afebrile\\nno sign and symptom seen at exit site\\nno sign and symptom of edema seen\\npt on profiling LInear. start at 0.88L/hr\\npt on heparin free and flushing every 30min,\\ntype: HD,\\ndetails: Pre-dialysis,\\nfhir_id: 583521.0,\\nid_patient: 1951.0,\\ncreated_at: 23:54.5,\\nmodified_at: nan,\\ncreated_by: 172.0,\\nmodified_by: nan,\\nid_tenant: 100.0,\\nid_branch: 10000.0,\\nid_dialysis: 7332.0,\\nmanually_created: False,\\nhd_reading_id: nan,\\nlab_order_id: nan,\\n', 'id: 9314.0,\\nnote: pt stable and afebrile\\nno sign and symptom of infection seen\\nno sign and symptom of edema seen\\npt on profilling Linear, start at 1.17L/hr\\npt on heparin free,\\ntype: HD,\\ndetails: Pre-dialysis,\\nfhir_id: 571983.0,\\nid_patient: 1951.0,\\ncreated_at: 03:55.3,\\nmodified_at: nan,\\ncreated_by: 172.0,\\nmodified_by: nan,\\nid_tenant: 100.0,\\nid_branch: 10000.0,\\nid_dialysis: 7235.0,\\nmanually_created: False,\\nhd_reading_id: nan,\\nlab_order_id: nan,\\n']]\n"
     ]
    }
   ],
   "source": [
    "# Conduct a similarity search in the ChromaDB\n",
    "similarity_search_results = vectordb.query(\n",
    "    query_embeddings = prompt_embedding,\n",
    "    n_results=20 # Adjust the number of results to obtain as required \n",
    ")['documents']\n",
    "\n",
    "print(similarity_search_results)"
   ]
  },
  {
   "cell_type": "markdown",
   "metadata": {},
   "source": [
    "### Construction of Final Prompt & Response Generation\n",
    "\n",
    "The final prompt is constructed as with the prompt from step 02 and the similarity search results obtained from above, before being sent to Anthropic's Claude 3 Sonnet for response generation. "
   ]
  },
  {
   "cell_type": "code",
   "execution_count": 10,
   "metadata": {},
   "outputs": [],
   "source": [
    "sample_file_name = 'clinical-notes-01.txt'\n",
    "sample_file_path = os.path.join('sample_responses', sample_file_name)\n",
    "\n",
    "# Load sample\n",
    "with open(sample_file_path, 'r') as f:\n",
    "    sample = f.read()\n",
    "\n",
    "system_role = \"You are a highly knowledgeable assistant specialized in creating clinical documents and answering questions. You will receive the user's question along with the search results of that question over a database. Please use the search results to generate the proper answer. \"\n",
    "final_prompt = f\"User's question: {prompt} \\n\\n Search results:\\n {similarity_search_results}\"\n",
    "\n",
    "messages_API_body = {\n",
    "    \"anthropic_version\": \"bedrock-2023-05-31\", \n",
    "    \"max_tokens\": int(500/0.75),\n",
    "    \"system\": system_role,\n",
    "    \"messages\": [\n",
    "        {\n",
    "            \"role\": \"user\",\n",
    "            \"content\": [\n",
    "                {\n",
    "                    \"type\": \"text\",\n",
    "                    \"text\": final_prompt\n",
    "                }\n",
    "            ]\n",
    "        }\n",
    "    ]\n",
    "}"
   ]
  },
  {
   "cell_type": "code",
   "execution_count": 11,
   "metadata": {},
   "outputs": [
    {
     "name": "stdout",
     "output_type": "stream",
     "text": [
      "Based on the provided clinical data, here is the report for the patient:\n",
      "\n",
      "1. The dates and days that the patient is unwell and the nurses indicates that the patient is unstable:\n",
      "The clinical notes do not mention any days or dates when the patient was unwell or unstable. All notes indicate that the patient was stable and alert during the dialysis sessions.\n",
      "\n",
      "2. Itemize the dates and time that the patient receive any form of injections or medication and the person who administer the injection / medication:\n",
      "- 2023-05-07 01:51:44 AM - IV Erysaa 4k (injection) given by SN Noraini\n",
      "\n",
      "3. Did the patient missed or omit medication / injection during dialysis - list the dates:\n",
      "Yes, the patient omitted the following medication on this date:\n",
      "- 2023-01-09 09:03:05 PM - Ranofer (Iron Sucrose) 100mg/5mls Inj\n",
      "\n",
      "4. Highlight the type of profiling that is used by the nursing team:\n",
      "Based on the clinical notes, the nursing team used Linear Ultrafiltration (UF) Profiling for this patient during dialysis sessions. Most notes mention \"On UF Profiling linear\" with the specified start and stop ultrafiltration rates.\n"
     ]
    }
   ],
   "source": [
    "response_body = bedrock_caller.call_claude3sonnet(messages_API_body)\n",
    "llm_output = response_body['content'][0]['text']\n",
    "\n",
    "print(llm_output)"
   ]
  },
  {
   "cell_type": "markdown",
   "metadata": {},
   "source": [
    "The LLM output is then saved into the `results` folder. "
   ]
  },
  {
   "cell_type": "code",
   "execution_count": 12,
   "metadata": {},
   "outputs": [],
   "source": [
    "import re\n",
    "import os\n",
    "\n",
    "sample_file_name = 'clinical-notes-01.txt'\n",
    "save_dir = os.path.join('results', os.path.splitext(sample_file_name)[0])\n",
    "\n",
    "# Regular expression to match files named 'attempt-x.txt'\n",
    "pattern = re.compile(r'attempt-(\\d+)\\.txt')\n",
    "max_num = -1\n",
    "\n",
    "# Find the highest attempt number\n",
    "for filename in os.listdir(save_dir):\n",
    "    match = pattern.match(filename)\n",
    "    if match:\n",
    "        num = int(match.group(1))\n",
    "        if num > max_num:\n",
    "            max_num = num\n",
    "next_num = max_num + 1 if max_num != -1 else 1\n",
    "\n",
    "# Create the new filename\n",
    "new_filename = f'attempt-{next_num}.txt'\n",
    "new_filepath = os.path.join(save_dir, new_filename)\n",
    "\n",
    "# Save the data to the new file\n",
    "with open(new_filepath, 'w') as file:\n",
    "    file.write(llm_output)"
   ]
  }
 ],
 "metadata": {
  "kernelspec": {
   "display_name": ".venv",
   "language": "python",
   "name": "python3"
  },
  "language_info": {
   "codemirror_mode": {
    "name": "ipython",
    "version": 3
   },
   "file_extension": ".py",
   "mimetype": "text/x-python",
   "name": "python",
   "nbconvert_exporter": "python",
   "pygments_lexer": "ipython3",
   "version": "3.12.1"
  }
 },
 "nbformat": 4,
 "nbformat_minor": 2
}
