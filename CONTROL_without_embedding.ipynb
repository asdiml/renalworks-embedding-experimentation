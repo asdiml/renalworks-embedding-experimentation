{
 "cells": [
  {
   "cell_type": "markdown",
   "metadata": {},
   "source": [
    "## Testing of Control: Without use of VectorDB and Similarity Search\n",
    "\n",
    "In this notebook, we will pass in the entire csv as text into the LLM together with the prompt to perform control testing. "
   ]
  },
  {
   "cell_type": "code",
   "execution_count": null,
   "metadata": {},
   "outputs": [],
   "source": [
    "import os\n",
    "from src.utils.bedrock_caller import BedrockCaller\n",
    "\n",
    "bedrock_caller = BedrockCaller()\n",
    "\n",
    "# Specify the path of the prompt\n",
    "prompt_file_name = 'clinical-notes-01-prompt-specific.txt'\n",
    "prompt_file_path = os.path.join('prompts', prompt_file_name)\n",
    "\n",
    "# Load prompt\n",
    "with open(prompt_file_path, 'r') as f:\n",
    "    prompt = f.read()\n",
    "\n",
    "print(prompt)"
   ]
  },
  {
   "cell_type": "code",
   "execution_count": null,
   "metadata": {},
   "outputs": [],
   "source": [
    "import pandas as pd\n",
    "\n",
    "# File name\n",
    "data_file_name = 'chan-RenalGenie_Clinical_Note_csv.csv'\n",
    "\n",
    "# Load the CSV file (data frame)\n",
    "df = pd.read_csv(os.path.join('data', 'csv_xlsx', data_file_name))\n",
    "df = df.dropna(how='all')\n",
    "df_cleaned = df.loc[:, ~df.columns.str.contains('^Unnamed')]\n",
    "\n",
    "# Convert DataFrame to a string (CSV format)\n",
    "data_string = df_cleaned.to_csv(index=False)\n",
    "\n",
    "print(data_string)"
   ]
  },
  {
   "cell_type": "code",
   "execution_count": null,
   "metadata": {},
   "outputs": [],
   "source": [
    "sample_file_name = 'clinical-notes-01.txt'\n",
    "sample_file_path = os.path.join('sample_responses', sample_file_name)\n",
    "\n",
    "# Load sample\n",
    "with open(sample_file_path, 'r') as f:\n",
    "    sample = f.read()\n",
    "\n",
    "system_role = \"You are a highly knowledgeable assistant specialized in creating clinical documents and answering questions. You will receive the user's question along with the data to sieve through. Please use the data, and not the sample in the user's question, to generate the proper answer. \"\n",
    "final_prompt = f\"User's question: {prompt} \\n\\n Data:\\n {data_string} \\n\\n Sample: {sample}\"\n",
    "\n",
    "messages_API_body = {\n",
    "    \"anthropic_version\": \"bedrock-2023-05-31\", \n",
    "    \"max_tokens\": int(500/0.75),\n",
    "    \"system\": system_role, \n",
    "    \"messages\": [\n",
    "        {\n",
    "            \"role\": \"user\",\n",
    "            \"content\": [\n",
    "                {\n",
    "                    \"type\": \"text\",\n",
    "                    \"text\": final_prompt\n",
    "                }\n",
    "            ]\n",
    "        }\n",
    "    ]\n",
    "}"
   ]
  },
  {
   "cell_type": "code",
   "execution_count": null,
   "metadata": {},
   "outputs": [],
   "source": [
    "response_body = bedrock_caller.call_claude3sonnet(messages_API_body)\n",
    "llm_output = response_body['content'][0]['text']\n",
    "\n",
    "print(llm_output)"
   ]
  },
  {
   "cell_type": "code",
   "execution_count": null,
   "metadata": {},
   "outputs": [],
   "source": [
    "import re\n",
    "import os\n",
    "\n",
    "sample_file_name = 'clinical-notes-01.txt'\n",
    "save_dir = os.path.join('results', os.path.splitext(sample_file_name)[0])\n",
    "\n",
    "# Regular expression to match files named 'attempt-x.txt'\n",
    "pattern = re.compile(r'control-attempt-(\\d+)\\.txt')\n",
    "max_num = -1\n",
    "\n",
    "# Find the highest attempt number\n",
    "for filename in os.listdir(save_dir):\n",
    "    match = pattern.match(filename)\n",
    "    if match:\n",
    "        num = int(match.group(1))\n",
    "        if num > max_num:\n",
    "            max_num = num\n",
    "next_num = max_num + 1 if max_num != -1 else 1\n",
    "\n",
    "# Create the new filename\n",
    "new_filename = f'control-attempt-{next_num}.txt'\n",
    "new_filepath = os.path.join(save_dir, new_filename)\n",
    "\n",
    "# Save the data to the new file\n",
    "with open(new_filepath, 'w') as file:\n",
    "    file.write(llm_output)"
   ]
  }
 ],
 "metadata": {
  "kernelspec": {
   "display_name": ".venv",
   "language": "python",
   "name": "python3"
  },
  "language_info": {
   "codemirror_mode": {
    "name": "ipython",
    "version": 3
   },
   "file_extension": ".py",
   "mimetype": "text/x-python",
   "name": "python",
   "nbconvert_exporter": "python",
   "pygments_lexer": "ipython3",
   "version": "3.12.1"
  }
 },
 "nbformat": 4,
 "nbformat_minor": 2
}
