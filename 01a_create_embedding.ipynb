{
 "cells": [
  {
   "cell_type": "markdown",
   "metadata": {},
   "source": [
    "## Step 1a: Create cell-by-cell csv Embedding (using Amazon Bedrock's Titan Embedding Model)\n",
    "\n",
    "In this notebook, we will generate the cell-by-cell embedding for the csv file found at `./data/chan-RenalGenie_Clinical_Note_csv.csv` using the `amazon.titan-embed-text-v2:0` model. This is slow, and instead a row-by-row embedding generation (step 01b) should be considered. \n",
    "\n",
    "We begin by initializing the SSO session that must have the permissions to use Amazon Bedrock on the `amazon.titan-embed-text-v2:0` model. Note that a different embedding model may be specified as desired. "
   ]
  },
  {
   "cell_type": "code",
   "execution_count": null,
   "metadata": {},
   "outputs": [],
   "source": [
    "import boto3\n",
    "import pandas as pd\n",
    "import os\n",
    "\n",
    "# Initialize the Boto3 client\n",
    "# Important: Ensure that your AWS SSO credentials are configured. This can be done with `aws configure sso`. \n",
    "session = boto3.Session(profile_name='renalworks-bedrock') # Replace the profile name (can be found for Windows users in /Users/{YOUR_USERNAME}/.aws/config) accordingly \n",
    "boto3_bedrock = session.client('bedrock-runtime')\n",
    "\n",
    "# File name\n",
    "file_name = 'chan-RenalGenie_Clinical_Note_csv.csv'\n",
    "\n",
    "# Load the CSV file (data frame)\n",
    "df = pd.read_csv(os.path.join('data', 'csv_xlsx', file_name))\n",
    "df_cleaned = df.dropna(how='all')\n",
    "\n",
    "# Print the cleaned data frame\n",
    "print(df_cleaned)"
   ]
  },
  {
   "cell_type": "markdown",
   "metadata": {},
   "source": [
    "We then test the Titan Embedding model with a short string of sample text and check that a list of floating point numbers is generated. "
   ]
  },
  {
   "cell_type": "code",
   "execution_count": null,
   "metadata": {},
   "outputs": [],
   "source": [
    "import json\n",
    "\n",
    "# Define Embedding-Getter function\n",
    "def get_embeddings(text):\n",
    "\n",
    "    body = json.dumps({\"inputText\": text})\n",
    "    modelId = \"amazon.titan-embed-text-v2:0\"  # (Change this to try different embedding models)\n",
    "    accept = \"application/json\"\n",
    "    contentType = \"application/json\"\n",
    "\n",
    "    response = boto3_bedrock.invoke_model(\n",
    "        body=body, modelId=modelId, accept=accept, contentType=contentType\n",
    "    )\n",
    "    response_body = json.loads(response.get(\"body\").read())\n",
    "\n",
    "    embedding = response_body.get(\"embedding\")\n",
    "    return embedding\n",
    "\n",
    "sample_embedding = get_embeddings('i love renalworks')\n",
    "print(f\"The sample embedding vector has {len(sample_embedding)} values\\n{sample_embedding[0:3]+['...']+sample_embedding[-3:]}\")"
   ]
  },
  {
   "cell_type": "markdown",
   "metadata": {},
   "source": [
    "The following three code blocks involve individually generating embeddings for the text in each cell before concatenating the embeddings of the row to create the combined embedding for that row. \n",
    "\n",
    "While potentially preserving the notion of column separation of the tabular data, this results in the embedding generation that takes a very long time and thus is not recommended, since it would be impractical for users to wait for such a long time for a single csv file to be processed. "
   ]
  },
  {
   "cell_type": "code",
   "execution_count": null,
   "metadata": {},
   "outputs": [],
   "source": [
    "import itertools\n",
    "\n",
    "# Defines how embeddings across a row should be combined\n",
    "# Currently, they are simply concatenated, although the embeddings could also be averaged (doesn't sound like a good idea)\n",
    "def combine_embeddings(embeddings):\n",
    "    # Example: concatenate embeddings into a long list for each row\n",
    "    return list(itertools.chain(*embeddings))"
   ]
  },
  {
   "cell_type": "code",
   "execution_count": null,
   "metadata": {},
   "outputs": [],
   "source": [
    "import sys\n",
    "\n",
    "# List to store combined embeddings\n",
    "combined_embeddings = []\n",
    "\n",
    "# Specify the columns to embed\n",
    "columns_to_embed = [key for key in df_cleaned.keys() if key[:8] != \"Unnamed:\"]\n",
    "\n",
    "# Total number of rows for which to obtain embeddings\n",
    "num_rows = df_cleaned.index.size\n",
    "\n",
    "# Iterate through each row\n",
    "for index, row in df_cleaned.iterrows():\n",
    "    embeddings = []\n",
    "    for col in columns_to_embed:\n",
    "        text = row[col]\n",
    "        embedding = get_embeddings(str(text))\n",
    "        embeddings.append(embedding)\n",
    "    \n",
    "    # Combine embeddings (e.g., concatenate or average them)\n",
    "    combined_embedding = combine_embeddings(embeddings)\n",
    "    combined_embeddings.append(combined_embedding)\n",
    "\n",
    "    # Print progress\n",
    "    sys.stdout.write(f'\\rProgress (rows done): {index+1}/{num_rows}\\n')\n",
    "    sys.stdout.flush()\n",
    "\n",
    "# Add combined embeddings to the DataFrame\n",
    "# df['combined_embeddings'] = combined_embeddings\n",
    "\n",
    "print(f\"The result is a {len(combined_embeddings)} by {len(combined_embeddings[0])} matrix\")\n",
    "\n",
    "# Time taken to generate embeddings for chan-RenalGenie_Clinical_Note_csv.csv: 12 mins 51 secs"
   ]
  },
  {
   "cell_type": "code",
   "execution_count": null,
   "metadata": {},
   "outputs": [],
   "source": [
    "# Convert the large matrix of embeddings into a DataFrame\n",
    "embeddings_df = pd.DataFrame(combined_embeddings)\n",
    "\n",
    "# Save embeddings DataFrame to a CSV file\n",
    "embedding_filename = os.path.join('embeddings', 'csv_xlsx', 'embedding_' + os.path.splitext(file_name)[0])\n",
    "embeddings_df.to_csv(embedding_filename+'.csv', index=False)"
   ]
  }
 ],
 "metadata": {
  "kernelspec": {
   "display_name": ".venv",
   "language": "python",
   "name": "python3"
  },
  "language_info": {
   "codemirror_mode": {
    "name": "ipython",
    "version": 3
   },
   "file_extension": ".py",
   "mimetype": "text/x-python",
   "name": "python",
   "nbconvert_exporter": "python",
   "pygments_lexer": "ipython3",
   "version": "3.12.1"
  }
 },
 "nbformat": 4,
 "nbformat_minor": 2
}
