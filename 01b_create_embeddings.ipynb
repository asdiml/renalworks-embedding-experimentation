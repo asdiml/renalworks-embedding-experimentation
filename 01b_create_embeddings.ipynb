{
 "cells": [
  {
   "cell_type": "markdown",
   "metadata": {},
   "source": [
    "## Step 1b: Create row-by-row Embedding stored in ChromaDB (using Amazon Bedrock's Titan Embedding Model)\n",
    "\n",
    "In this notebook, we will generate the row-by-row embedding for the csv file found at `./data/chan-RenalGenie_Clinical_Note_csv.csv` using the `amazon.titan-embed-text-v2:0` model. These embeddings will then be stored in a ChromaDB found in `/data/chroma/`. \n",
    "\n",
    "As in step 1a, the SSO session used must have the permissions to use Amazon Bedrock on the `amazon.titan-embed-text-v2:0` model. The SSO profile can be changed in the `/src/utils/bedrock_caller.py` file, under the `__init__` method. A different embedding model may be specified as desired. "
   ]
  },
  {
   "cell_type": "markdown",
   "metadata": {},
   "source": [
    "To finish this step, simply run the `prepare_csv_xlsx_vectordb.py` script found in the `src` folder, i.e.\n",
    "\n",
    "```\n",
    "python src/prepare_csv_xlsx_vectordb.py\n",
    "```"
   ]
  }
 ],
 "metadata": {
  "language_info": {
   "name": "python"
  }
 },
 "nbformat": 4,
 "nbformat_minor": 2
}
